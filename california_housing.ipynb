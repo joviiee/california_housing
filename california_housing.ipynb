{
 "cells": [
  {
   "cell_type": "code",
   "execution_count": 25,
   "metadata": {},
   "outputs": [],
   "source": [
    "import numpy as np\n",
    "import pandas as pd\n",
    "import seaborn as sns\n",
    "import matplotlib.pyplot as plt\n",
    "from sklearn.model_selection import train_test_split\n",
    "from sklearn.preprocessing import StandardScaler,LabelEncoder,OneHotEncoder\n",
    "from sklearn.linear_model import LinearRegression,ElasticNet\n",
    "from sklearn.metrics import root_mean_squared_error,r2_score\n",
    "from collections import Counter\n",
    "from sklearn.tree import DecisionTreeRegressor\n",
    "from sklearn.ensemble import RandomForestRegressor,GradientBoostingRegressor\n",
    "from sklearn.svm import SVR\n",
    "from sklearn.neural_network import MLPRegressor"
   ]
  },
  {
   "cell_type": "code",
   "execution_count": 2,
   "metadata": {},
   "outputs": [
    {
     "data": {
      "text/html": [
       "<div>\n",
       "<style scoped>\n",
       "    .dataframe tbody tr th:only-of-type {\n",
       "        vertical-align: middle;\n",
       "    }\n",
       "\n",
       "    .dataframe tbody tr th {\n",
       "        vertical-align: top;\n",
       "    }\n",
       "\n",
       "    .dataframe thead th {\n",
       "        text-align: right;\n",
       "    }\n",
       "</style>\n",
       "<table border=\"1\" class=\"dataframe\">\n",
       "  <thead>\n",
       "    <tr style=\"text-align: right;\">\n",
       "      <th></th>\n",
       "      <th>longitude</th>\n",
       "      <th>latitude</th>\n",
       "      <th>housing_median_age</th>\n",
       "      <th>total_rooms</th>\n",
       "      <th>total_bedrooms</th>\n",
       "      <th>population</th>\n",
       "      <th>households</th>\n",
       "      <th>median_income</th>\n",
       "      <th>median_house_value</th>\n",
       "      <th>ocean_proximity</th>\n",
       "    </tr>\n",
       "  </thead>\n",
       "  <tbody>\n",
       "    <tr>\n",
       "      <th>0</th>\n",
       "      <td>-122.23</td>\n",
       "      <td>37.88</td>\n",
       "      <td>41.0</td>\n",
       "      <td>880.0</td>\n",
       "      <td>129.0</td>\n",
       "      <td>322.0</td>\n",
       "      <td>126.0</td>\n",
       "      <td>8.3252</td>\n",
       "      <td>452600.0</td>\n",
       "      <td>NEAR BAY</td>\n",
       "    </tr>\n",
       "    <tr>\n",
       "      <th>1</th>\n",
       "      <td>-122.22</td>\n",
       "      <td>37.86</td>\n",
       "      <td>21.0</td>\n",
       "      <td>7099.0</td>\n",
       "      <td>1106.0</td>\n",
       "      <td>2401.0</td>\n",
       "      <td>1138.0</td>\n",
       "      <td>8.3014</td>\n",
       "      <td>358500.0</td>\n",
       "      <td>NEAR BAY</td>\n",
       "    </tr>\n",
       "    <tr>\n",
       "      <th>2</th>\n",
       "      <td>-122.24</td>\n",
       "      <td>37.85</td>\n",
       "      <td>52.0</td>\n",
       "      <td>1467.0</td>\n",
       "      <td>190.0</td>\n",
       "      <td>496.0</td>\n",
       "      <td>177.0</td>\n",
       "      <td>7.2574</td>\n",
       "      <td>352100.0</td>\n",
       "      <td>NEAR BAY</td>\n",
       "    </tr>\n",
       "    <tr>\n",
       "      <th>3</th>\n",
       "      <td>-122.25</td>\n",
       "      <td>37.85</td>\n",
       "      <td>52.0</td>\n",
       "      <td>1274.0</td>\n",
       "      <td>235.0</td>\n",
       "      <td>558.0</td>\n",
       "      <td>219.0</td>\n",
       "      <td>5.6431</td>\n",
       "      <td>341300.0</td>\n",
       "      <td>NEAR BAY</td>\n",
       "    </tr>\n",
       "    <tr>\n",
       "      <th>4</th>\n",
       "      <td>-122.25</td>\n",
       "      <td>37.85</td>\n",
       "      <td>52.0</td>\n",
       "      <td>1627.0</td>\n",
       "      <td>280.0</td>\n",
       "      <td>565.0</td>\n",
       "      <td>259.0</td>\n",
       "      <td>3.8462</td>\n",
       "      <td>342200.0</td>\n",
       "      <td>NEAR BAY</td>\n",
       "    </tr>\n",
       "    <tr>\n",
       "      <th>...</th>\n",
       "      <td>...</td>\n",
       "      <td>...</td>\n",
       "      <td>...</td>\n",
       "      <td>...</td>\n",
       "      <td>...</td>\n",
       "      <td>...</td>\n",
       "      <td>...</td>\n",
       "      <td>...</td>\n",
       "      <td>...</td>\n",
       "      <td>...</td>\n",
       "    </tr>\n",
       "    <tr>\n",
       "      <th>20635</th>\n",
       "      <td>-121.09</td>\n",
       "      <td>39.48</td>\n",
       "      <td>25.0</td>\n",
       "      <td>1665.0</td>\n",
       "      <td>374.0</td>\n",
       "      <td>845.0</td>\n",
       "      <td>330.0</td>\n",
       "      <td>1.5603</td>\n",
       "      <td>78100.0</td>\n",
       "      <td>INLAND</td>\n",
       "    </tr>\n",
       "    <tr>\n",
       "      <th>20636</th>\n",
       "      <td>-121.21</td>\n",
       "      <td>39.49</td>\n",
       "      <td>18.0</td>\n",
       "      <td>697.0</td>\n",
       "      <td>150.0</td>\n",
       "      <td>356.0</td>\n",
       "      <td>114.0</td>\n",
       "      <td>2.5568</td>\n",
       "      <td>77100.0</td>\n",
       "      <td>INLAND</td>\n",
       "    </tr>\n",
       "    <tr>\n",
       "      <th>20637</th>\n",
       "      <td>-121.22</td>\n",
       "      <td>39.43</td>\n",
       "      <td>17.0</td>\n",
       "      <td>2254.0</td>\n",
       "      <td>485.0</td>\n",
       "      <td>1007.0</td>\n",
       "      <td>433.0</td>\n",
       "      <td>1.7000</td>\n",
       "      <td>92300.0</td>\n",
       "      <td>INLAND</td>\n",
       "    </tr>\n",
       "    <tr>\n",
       "      <th>20638</th>\n",
       "      <td>-121.32</td>\n",
       "      <td>39.43</td>\n",
       "      <td>18.0</td>\n",
       "      <td>1860.0</td>\n",
       "      <td>409.0</td>\n",
       "      <td>741.0</td>\n",
       "      <td>349.0</td>\n",
       "      <td>1.8672</td>\n",
       "      <td>84700.0</td>\n",
       "      <td>INLAND</td>\n",
       "    </tr>\n",
       "    <tr>\n",
       "      <th>20639</th>\n",
       "      <td>-121.24</td>\n",
       "      <td>39.37</td>\n",
       "      <td>16.0</td>\n",
       "      <td>2785.0</td>\n",
       "      <td>616.0</td>\n",
       "      <td>1387.0</td>\n",
       "      <td>530.0</td>\n",
       "      <td>2.3886</td>\n",
       "      <td>89400.0</td>\n",
       "      <td>INLAND</td>\n",
       "    </tr>\n",
       "  </tbody>\n",
       "</table>\n",
       "<p>20640 rows × 10 columns</p>\n",
       "</div>"
      ],
      "text/plain": [
       "       longitude  latitude  housing_median_age  total_rooms  total_bedrooms  \\\n",
       "0        -122.23     37.88                41.0        880.0           129.0   \n",
       "1        -122.22     37.86                21.0       7099.0          1106.0   \n",
       "2        -122.24     37.85                52.0       1467.0           190.0   \n",
       "3        -122.25     37.85                52.0       1274.0           235.0   \n",
       "4        -122.25     37.85                52.0       1627.0           280.0   \n",
       "...          ...       ...                 ...          ...             ...   \n",
       "20635    -121.09     39.48                25.0       1665.0           374.0   \n",
       "20636    -121.21     39.49                18.0        697.0           150.0   \n",
       "20637    -121.22     39.43                17.0       2254.0           485.0   \n",
       "20638    -121.32     39.43                18.0       1860.0           409.0   \n",
       "20639    -121.24     39.37                16.0       2785.0           616.0   \n",
       "\n",
       "       population  households  median_income  median_house_value  \\\n",
       "0           322.0       126.0         8.3252            452600.0   \n",
       "1          2401.0      1138.0         8.3014            358500.0   \n",
       "2           496.0       177.0         7.2574            352100.0   \n",
       "3           558.0       219.0         5.6431            341300.0   \n",
       "4           565.0       259.0         3.8462            342200.0   \n",
       "...           ...         ...            ...                 ...   \n",
       "20635       845.0       330.0         1.5603             78100.0   \n",
       "20636       356.0       114.0         2.5568             77100.0   \n",
       "20637      1007.0       433.0         1.7000             92300.0   \n",
       "20638       741.0       349.0         1.8672             84700.0   \n",
       "20639      1387.0       530.0         2.3886             89400.0   \n",
       "\n",
       "      ocean_proximity  \n",
       "0            NEAR BAY  \n",
       "1            NEAR BAY  \n",
       "2            NEAR BAY  \n",
       "3            NEAR BAY  \n",
       "4            NEAR BAY  \n",
       "...               ...  \n",
       "20635          INLAND  \n",
       "20636          INLAND  \n",
       "20637          INLAND  \n",
       "20638          INLAND  \n",
       "20639          INLAND  \n",
       "\n",
       "[20640 rows x 10 columns]"
      ]
     },
     "execution_count": 2,
     "metadata": {},
     "output_type": "execute_result"
    }
   ],
   "source": [
    "# Load the California Housing dataset\n",
    "df = pd.read_csv('california_housing.csv')\n",
    "\n",
    "# Display the first few rows of the dataset\n",
    "df"
   ]
  },
  {
   "cell_type": "code",
   "execution_count": null,
   "metadata": {},
   "outputs": [],
   "source": [
    "df.info()"
   ]
  },
  {
   "cell_type": "code",
   "execution_count": 3,
   "metadata": {},
   "outputs": [],
   "source": [
    "df['total_bedrooms'] = df['total_bedrooms'].fillna(df['total_bedrooms'].median())\n"
   ]
  },
  {
   "cell_type": "code",
   "execution_count": null,
   "metadata": {},
   "outputs": [],
   "source": [
    "df.describe(include='all')"
   ]
  },
  {
   "cell_type": "code",
   "execution_count": 4,
   "metadata": {},
   "outputs": [
    {
     "data": {
      "text/html": [
       "<div>\n",
       "<style scoped>\n",
       "    .dataframe tbody tr th:only-of-type {\n",
       "        vertical-align: middle;\n",
       "    }\n",
       "\n",
       "    .dataframe tbody tr th {\n",
       "        vertical-align: top;\n",
       "    }\n",
       "\n",
       "    .dataframe thead th {\n",
       "        text-align: right;\n",
       "    }\n",
       "</style>\n",
       "<table border=\"1\" class=\"dataframe\">\n",
       "  <thead>\n",
       "    <tr style=\"text-align: right;\">\n",
       "      <th></th>\n",
       "      <th>longitude</th>\n",
       "      <th>latitude</th>\n",
       "      <th>housing_median_age</th>\n",
       "      <th>total_rooms</th>\n",
       "      <th>total_bedrooms</th>\n",
       "      <th>population</th>\n",
       "      <th>households</th>\n",
       "      <th>median_income</th>\n",
       "      <th>median_house_value</th>\n",
       "      <th>ocean_proximity_INLAND</th>\n",
       "      <th>ocean_proximity_ISLAND</th>\n",
       "      <th>ocean_proximity_NEAR BAY</th>\n",
       "      <th>ocean_proximity_NEAR OCEAN</th>\n",
       "    </tr>\n",
       "  </thead>\n",
       "  <tbody>\n",
       "    <tr>\n",
       "      <th>0</th>\n",
       "      <td>-122.23</td>\n",
       "      <td>37.88</td>\n",
       "      <td>41.0</td>\n",
       "      <td>880.0</td>\n",
       "      <td>129.0</td>\n",
       "      <td>322.0</td>\n",
       "      <td>126.0</td>\n",
       "      <td>8.3252</td>\n",
       "      <td>452600.0</td>\n",
       "      <td>False</td>\n",
       "      <td>False</td>\n",
       "      <td>True</td>\n",
       "      <td>False</td>\n",
       "    </tr>\n",
       "    <tr>\n",
       "      <th>1</th>\n",
       "      <td>-122.22</td>\n",
       "      <td>37.86</td>\n",
       "      <td>21.0</td>\n",
       "      <td>7099.0</td>\n",
       "      <td>1106.0</td>\n",
       "      <td>2401.0</td>\n",
       "      <td>1138.0</td>\n",
       "      <td>8.3014</td>\n",
       "      <td>358500.0</td>\n",
       "      <td>False</td>\n",
       "      <td>False</td>\n",
       "      <td>True</td>\n",
       "      <td>False</td>\n",
       "    </tr>\n",
       "    <tr>\n",
       "      <th>2</th>\n",
       "      <td>-122.24</td>\n",
       "      <td>37.85</td>\n",
       "      <td>52.0</td>\n",
       "      <td>1467.0</td>\n",
       "      <td>190.0</td>\n",
       "      <td>496.0</td>\n",
       "      <td>177.0</td>\n",
       "      <td>7.2574</td>\n",
       "      <td>352100.0</td>\n",
       "      <td>False</td>\n",
       "      <td>False</td>\n",
       "      <td>True</td>\n",
       "      <td>False</td>\n",
       "    </tr>\n",
       "    <tr>\n",
       "      <th>3</th>\n",
       "      <td>-122.25</td>\n",
       "      <td>37.85</td>\n",
       "      <td>52.0</td>\n",
       "      <td>1274.0</td>\n",
       "      <td>235.0</td>\n",
       "      <td>558.0</td>\n",
       "      <td>219.0</td>\n",
       "      <td>5.6431</td>\n",
       "      <td>341300.0</td>\n",
       "      <td>False</td>\n",
       "      <td>False</td>\n",
       "      <td>True</td>\n",
       "      <td>False</td>\n",
       "    </tr>\n",
       "    <tr>\n",
       "      <th>4</th>\n",
       "      <td>-122.25</td>\n",
       "      <td>37.85</td>\n",
       "      <td>52.0</td>\n",
       "      <td>1627.0</td>\n",
       "      <td>280.0</td>\n",
       "      <td>565.0</td>\n",
       "      <td>259.0</td>\n",
       "      <td>3.8462</td>\n",
       "      <td>342200.0</td>\n",
       "      <td>False</td>\n",
       "      <td>False</td>\n",
       "      <td>True</td>\n",
       "      <td>False</td>\n",
       "    </tr>\n",
       "    <tr>\n",
       "      <th>...</th>\n",
       "      <td>...</td>\n",
       "      <td>...</td>\n",
       "      <td>...</td>\n",
       "      <td>...</td>\n",
       "      <td>...</td>\n",
       "      <td>...</td>\n",
       "      <td>...</td>\n",
       "      <td>...</td>\n",
       "      <td>...</td>\n",
       "      <td>...</td>\n",
       "      <td>...</td>\n",
       "      <td>...</td>\n",
       "      <td>...</td>\n",
       "    </tr>\n",
       "    <tr>\n",
       "      <th>20635</th>\n",
       "      <td>-121.09</td>\n",
       "      <td>39.48</td>\n",
       "      <td>25.0</td>\n",
       "      <td>1665.0</td>\n",
       "      <td>374.0</td>\n",
       "      <td>845.0</td>\n",
       "      <td>330.0</td>\n",
       "      <td>1.5603</td>\n",
       "      <td>78100.0</td>\n",
       "      <td>True</td>\n",
       "      <td>False</td>\n",
       "      <td>False</td>\n",
       "      <td>False</td>\n",
       "    </tr>\n",
       "    <tr>\n",
       "      <th>20636</th>\n",
       "      <td>-121.21</td>\n",
       "      <td>39.49</td>\n",
       "      <td>18.0</td>\n",
       "      <td>697.0</td>\n",
       "      <td>150.0</td>\n",
       "      <td>356.0</td>\n",
       "      <td>114.0</td>\n",
       "      <td>2.5568</td>\n",
       "      <td>77100.0</td>\n",
       "      <td>True</td>\n",
       "      <td>False</td>\n",
       "      <td>False</td>\n",
       "      <td>False</td>\n",
       "    </tr>\n",
       "    <tr>\n",
       "      <th>20637</th>\n",
       "      <td>-121.22</td>\n",
       "      <td>39.43</td>\n",
       "      <td>17.0</td>\n",
       "      <td>2254.0</td>\n",
       "      <td>485.0</td>\n",
       "      <td>1007.0</td>\n",
       "      <td>433.0</td>\n",
       "      <td>1.7000</td>\n",
       "      <td>92300.0</td>\n",
       "      <td>True</td>\n",
       "      <td>False</td>\n",
       "      <td>False</td>\n",
       "      <td>False</td>\n",
       "    </tr>\n",
       "    <tr>\n",
       "      <th>20638</th>\n",
       "      <td>-121.32</td>\n",
       "      <td>39.43</td>\n",
       "      <td>18.0</td>\n",
       "      <td>1860.0</td>\n",
       "      <td>409.0</td>\n",
       "      <td>741.0</td>\n",
       "      <td>349.0</td>\n",
       "      <td>1.8672</td>\n",
       "      <td>84700.0</td>\n",
       "      <td>True</td>\n",
       "      <td>False</td>\n",
       "      <td>False</td>\n",
       "      <td>False</td>\n",
       "    </tr>\n",
       "    <tr>\n",
       "      <th>20639</th>\n",
       "      <td>-121.24</td>\n",
       "      <td>39.37</td>\n",
       "      <td>16.0</td>\n",
       "      <td>2785.0</td>\n",
       "      <td>616.0</td>\n",
       "      <td>1387.0</td>\n",
       "      <td>530.0</td>\n",
       "      <td>2.3886</td>\n",
       "      <td>89400.0</td>\n",
       "      <td>True</td>\n",
       "      <td>False</td>\n",
       "      <td>False</td>\n",
       "      <td>False</td>\n",
       "    </tr>\n",
       "  </tbody>\n",
       "</table>\n",
       "<p>20640 rows × 13 columns</p>\n",
       "</div>"
      ],
      "text/plain": [
       "       longitude  latitude  housing_median_age  total_rooms  total_bedrooms  \\\n",
       "0        -122.23     37.88                41.0        880.0           129.0   \n",
       "1        -122.22     37.86                21.0       7099.0          1106.0   \n",
       "2        -122.24     37.85                52.0       1467.0           190.0   \n",
       "3        -122.25     37.85                52.0       1274.0           235.0   \n",
       "4        -122.25     37.85                52.0       1627.0           280.0   \n",
       "...          ...       ...                 ...          ...             ...   \n",
       "20635    -121.09     39.48                25.0       1665.0           374.0   \n",
       "20636    -121.21     39.49                18.0        697.0           150.0   \n",
       "20637    -121.22     39.43                17.0       2254.0           485.0   \n",
       "20638    -121.32     39.43                18.0       1860.0           409.0   \n",
       "20639    -121.24     39.37                16.0       2785.0           616.0   \n",
       "\n",
       "       population  households  median_income  median_house_value  \\\n",
       "0           322.0       126.0         8.3252            452600.0   \n",
       "1          2401.0      1138.0         8.3014            358500.0   \n",
       "2           496.0       177.0         7.2574            352100.0   \n",
       "3           558.0       219.0         5.6431            341300.0   \n",
       "4           565.0       259.0         3.8462            342200.0   \n",
       "...           ...         ...            ...                 ...   \n",
       "20635       845.0       330.0         1.5603             78100.0   \n",
       "20636       356.0       114.0         2.5568             77100.0   \n",
       "20637      1007.0       433.0         1.7000             92300.0   \n",
       "20638       741.0       349.0         1.8672             84700.0   \n",
       "20639      1387.0       530.0         2.3886             89400.0   \n",
       "\n",
       "       ocean_proximity_INLAND  ocean_proximity_ISLAND  \\\n",
       "0                       False                   False   \n",
       "1                       False                   False   \n",
       "2                       False                   False   \n",
       "3                       False                   False   \n",
       "4                       False                   False   \n",
       "...                       ...                     ...   \n",
       "20635                    True                   False   \n",
       "20636                    True                   False   \n",
       "20637                    True                   False   \n",
       "20638                    True                   False   \n",
       "20639                    True                   False   \n",
       "\n",
       "       ocean_proximity_NEAR BAY  ocean_proximity_NEAR OCEAN  \n",
       "0                          True                       False  \n",
       "1                          True                       False  \n",
       "2                          True                       False  \n",
       "3                          True                       False  \n",
       "4                          True                       False  \n",
       "...                         ...                         ...  \n",
       "20635                     False                       False  \n",
       "20636                     False                       False  \n",
       "20637                     False                       False  \n",
       "20638                     False                       False  \n",
       "20639                     False                       False  \n",
       "\n",
       "[20640 rows x 13 columns]"
      ]
     },
     "execution_count": 4,
     "metadata": {},
     "output_type": "execute_result"
    }
   ],
   "source": [
    "df = pd.get_dummies(df,columns = ['ocean_proximity'],drop_first=True)\n",
    "df"
   ]
  },
  {
   "cell_type": "code",
   "execution_count": null,
   "metadata": {},
   "outputs": [],
   "source": [
    "corr_mat = df.corr()\n",
    "plt.figure(figsize=(8,6))\n",
    "sns.heatmap(corr_mat,annot=True,cmap=\"coolwarm\",linewidths=.5)\n"
   ]
  },
  {
   "cell_type": "code",
   "execution_count": 5,
   "metadata": {},
   "outputs": [],
   "source": [
    "# Define the features (X) and the target (y)\n",
    "X = df.drop(\"median_house_value\", axis=1)  # Features (drop the target column)\n",
    "y = df[\"median_house_value\"]  # Target: Median House Value"
   ]
  },
  {
   "cell_type": "code",
   "execution_count": 6,
   "metadata": {},
   "outputs": [],
   "source": [
    "# Split the dataset into training and testing sets (80% train, 20% test)\n",
    "X_train, X_test, y_train, y_test = train_test_split(X, y, test_size=0.2, random_state=42)\n"
   ]
  },
  {
   "cell_type": "code",
   "execution_count": 7,
   "metadata": {},
   "outputs": [],
   "source": [
    "# Standardize the feature data (important for linear regression)\n",
    "scaler = StandardScaler()\n",
    "X_train_scaled = scaler.fit_transform(X_train)\n",
    "X_test_scaled = scaler.transform(X_test)"
   ]
  },
  {
   "cell_type": "code",
   "execution_count": 58,
   "metadata": {},
   "outputs": [],
   "source": [
    "# lets track the best metrics for each algorithm by appending the values to these arrays\n",
    "model_names = []\n",
    "r2_scores = []"
   ]
  },
  {
   "cell_type": "code",
   "execution_count": 9,
   "metadata": {},
   "outputs": [
    {
     "name": "stdout",
     "output_type": "stream",
     "text": [
      "Train score   0.567---------Test score   0.560\n"
     ]
    }
   ],
   "source": [
    "# Create and train the elasticnet model\n",
    "enet1 = ElasticNet()\n",
    "enet1.fit(X_train_scaled, y_train)\n",
    "# Evaluate the model\n",
    "e_train1 = enet1.score(X_train_scaled,y_train)\n",
    "e_test1 = enet1.score(X_test_scaled,y_test)\n",
    "\n",
    "print(f'Train score   {e_train1:.3f}---------Test score   {e_test1:.3f}')"
   ]
  },
  {
   "cell_type": "code",
   "execution_count": null,
   "metadata": {},
   "outputs": [],
   "source": [
    "alphas = [0.5,1,1.5,2]\n",
    "l1_ratios = [0,0.25,0.5,0.75,1]\n",
    "for alpha in alphas:\n",
    "    for l1 in l1_ratios:\n",
    "        model = ElasticNet(alpha=alpha,l1_ratio=l1)\n",
    "        model.fit(X_train_scaled, y_train)\n",
    "        # Evaluate the model\n",
    "        train_score = model.score(X_train_scaled,y_train)\n",
    "        test_score = model.score(X_test_scaled,y_test)\n",
    "        print(f'alpha = {alpha} - l1 = {l1}')\n",
    "        print(f'Train score   {train_score:.3f}---------Test score   {test_score:.3f}\\n')\n"
   ]
  },
  {
   "cell_type": "code",
   "execution_count": 46,
   "metadata": {},
   "outputs": [
    {
     "name": "stdout",
     "output_type": "stream",
     "text": [
      "Train score   0.650---------Test score   0.625\n"
     ]
    }
   ],
   "source": [
    "# we can see the model performance increasing with l1_ratio so we fix out model at default alpha value and l1 = 1\n",
    "enet2 = ElasticNet(l1_ratio=1)\n",
    "enet2.fit(X_train_scaled, y_train)\n",
    "# Evaluate the model\n",
    "e_train2 = enet2.score(X_train_scaled,y_train)\n",
    "e_test2 = enet2.score(X_test_scaled,y_test)\n",
    "\n",
    "print(f'Train score   {e_train2:.3f}---------Test score   {e_test2:.3f}')"
   ]
  },
  {
   "cell_type": "code",
   "execution_count": 59,
   "metadata": {},
   "outputs": [],
   "source": [
    "model_names.append('ElasticNet')\n",
    "r2_scores.append(e_test2)"
   ]
  },
  {
   "cell_type": "code",
   "execution_count": null,
   "metadata": {},
   "outputs": [
    {
     "name": "stdout",
     "output_type": "stream",
     "text": [
      "Train score   1.000---------Test score   0.646\n"
     ]
    }
   ],
   "source": [
    "# Lets try the default dtree regressor model\n",
    "tree1 = DecisionTreeRegressor(random_state=0)\n",
    "tree1.fit(X_train_scaled, y_train)\n",
    "t_train1 = tree1.score(X_train_scaled, y_train)\n",
    "t_test1 = tree1.score(X_test_scaled, y_test)\n",
    "print(f'Train score   {t_train1:.3f}---------Test score   {t_test1:.3f}')\n",
    "# We find that the train score is much higher than the test score which indicates overfitting we need to reduce model complexity"
   ]
  },
  {
   "cell_type": "code",
   "execution_count": null,
   "metadata": {},
   "outputs": [
    {
     "name": "stdout",
     "output_type": "stream",
     "text": [
      "depth - 5\n",
      "Train score   0.643---------Test score   0.610\n",
      "\n",
      "depth - 6\n",
      "Train score   0.684---------Test score   0.653\n",
      "\n",
      "depth - 7\n",
      "Train score   0.719---------Test score   0.681\n",
      "\n",
      "depth - 8\n",
      "Train score   0.756---------Test score   0.705\n",
      "\n",
      "depth - 9\n",
      "Train score   0.793---------Test score   0.711\n",
      "\n",
      "depth - 10\n",
      "Train score   0.823---------Test score   0.709\n",
      "\n"
     ]
    },
    {
     "data": {
      "text/plain": [
       "<matplotlib.legend.Legend at 0x72c68d5dbfb0>"
      ]
     },
     "execution_count": 117,
     "metadata": {},
     "output_type": "execute_result"
    },
    {
     "data": {
      "image/png": "[encoded data removed]",
      "text/plain": [
       "<Figure size 640x480 with 1 Axes>"
      ]
     },
     "metadata": {},
     "output_type": "display_data"
    }
   ],
   "source": [
    "# trying pruning to overcome overfitting \n",
    "maxdepth = [5,6,7,8,9,10]\n",
    "train_arr = []\n",
    "test_arr = []\n",
    "\n",
    "for depth in maxdepth:\n",
    "    model = DecisionTreeRegressor(max_depth=depth,random_state=0)\n",
    "    model.fit(X_train_scaled, y_train)\n",
    "    # Evaluate the model\n",
    "    train_score = model.score(X_train_scaled,y_train)\n",
    "    test_score = model.score(X_test_scaled,y_test)\n",
    "    train_arr.append(train_score)\n",
    "    test_arr.append(test_score)\n",
    "    print(f'depth - {depth}')\n",
    "    print(f'Train score   {train_score:.3f}---------Test score   {test_score:.3f}\\n')\n",
    "\n",
    "plt.plot(maxdepth,train_arr,label= 'train_score')\n",
    "plt.plot(maxdepth,test_arr,label= 'test_score')\n",
    "plt.legend()\n",
    "        "
   ]
  },
  {
   "cell_type": "code",
   "execution_count": 48,
   "metadata": {},
   "outputs": [
    {
     "name": "stdout",
     "output_type": "stream",
     "text": [
      "Train score   0.793---------Test score   0.711\n"
     ]
    }
   ],
   "source": [
    "# fixing the moddel at max_depth = 9 \n",
    "tree2 = DecisionTreeRegressor(max_depth=9, random_state=0)\n",
    "tree2.fit(X_train_scaled, y_train)\n",
    "t_train2 = tree2.score(X_train_scaled, y_train)\n",
    "t_test2 = tree2.score(X_test_scaled, y_test)\n",
    "print(f'Train score   {t_train2:.3f}---------Test score   {t_test2:.3f}')"
   ]
  },
  {
   "cell_type": "code",
   "execution_count": 60,
   "metadata": {},
   "outputs": [],
   "source": [
    "model_names.append('DecisionTreeRegressor')\n",
    "r2_scores.append(t_test2)"
   ]
  },
  {
   "cell_type": "code",
   "execution_count": null,
   "metadata": {},
   "outputs": [
    {
     "name": "stdout",
     "output_type": "stream",
     "text": [
      "Train score   0.827---------Test score   0.766\n"
     ]
    }
   ],
   "source": [
    "# to get away with the overfitting nature of dtree trying random forest\n",
    "forest1 = RandomForestRegressor(max_depth=9, n_estimators=30, random_state=0)\n",
    "forest1.fit(X_train_scaled, y_train)\n",
    "f_train1 = forest1.score(X_train_scaled, y_train)\n",
    "f_test1 = forest1.score(X_test_scaled, y_test)\n",
    "print(f'Train score   {f_train1:.3f}---------Test score   {f_test1:.3f}')"
   ]
  },
  {
   "cell_type": "code",
   "execution_count": 128,
   "metadata": {},
   "outputs": [
    {
     "name": "stdout",
     "output_type": "stream",
     "text": [
      "depth - 5\n",
      "Train score   0.669---------Test score   0.636\n",
      "\n",
      "depth - 6\n",
      "Train score   0.714---------Test score   0.679\n",
      "\n",
      "depth - 7\n",
      "Train score   0.756---------Test score   0.715\n",
      "\n",
      "depth - 8\n",
      "Train score   0.794---------Test score   0.745\n",
      "\n",
      "depth - 9\n",
      "Train score   0.827---------Test score   0.766\n",
      "\n",
      "depth - 10\n",
      "Train score   0.858---------Test score   0.781\n",
      "\n",
      "depth - 12\n",
      "Train score   0.907---------Test score   0.799\n",
      "\n",
      "depth - 15\n",
      "Train score   0.950---------Test score   0.810\n",
      "\n",
      "depth - 20\n",
      "Train score   0.970---------Test score   0.811\n",
      "\n",
      "depth - 25\n",
      "Train score   0.972---------Test score   0.811\n",
      "\n"
     ]
    },
    {
     "data": {
      "text/plain": [
       "<matplotlib.legend.Legend at 0x72c68d34ef30>"
      ]
     },
     "execution_count": 128,
     "metadata": {},
     "output_type": "execute_result"
    },
    {
     "data": {
      "image/png": "[encoded data removed]",
      "text/plain": [
       "<Figure size 640x480 with 1 Axes>"
      ]
     },
     "metadata": {},
     "output_type": "display_data"
    }
   ],
   "source": [
    "# searching for a better model\n",
    "maxdepth = [5,6,7,8,9,10,12,15,20,25]\n",
    "train_arr = []\n",
    "test_arr = []\n",
    "\n",
    "for depth in maxdepth:\n",
    "    model = RandomForestRegressor(max_depth=depth, n_estimators=30,random_state=0)\n",
    "    model.fit(X_train_scaled, y_train)\n",
    "    # Evaluate the model\n",
    "    train_score = model.score(X_train_scaled,y_train)\n",
    "    test_score = model.score(X_test_scaled,y_test)\n",
    "    train_arr.append(train_score)\n",
    "    test_arr.append(test_score)\n",
    "    print(f'depth - {depth}')\n",
    "    print(f'Train score   {train_score:.3f}---------Test score   {test_score:.3f}\\n')\n",
    "\n",
    "plt.plot(maxdepth,train_arr,label= 'train_score')\n",
    "plt.plot(maxdepth,test_arr,label= 'test_score')\n",
    "plt.legend()"
   ]
  },
  {
   "cell_type": "code",
   "execution_count": 50,
   "metadata": {},
   "outputs": [
    {
     "name": "stdout",
     "output_type": "stream",
     "text": [
      "Train score   0.858---------Test score   0.781\n"
     ]
    }
   ],
   "source": [
    "# I think that depth = 10 is a fine balanced model\n",
    "forest2 = RandomForestRegressor(max_depth=10, n_estimators=30, random_state=0)\n",
    "forest2.fit(X_train_scaled, y_train)\n",
    "f_train2 = forest2.score(X_train_scaled, y_train)\n",
    "f_test2 = forest2.score(X_test_scaled, y_test)\n",
    "print(f'Train score   {f_train2:.3f}---------Test score   {f_test2:.3f}')"
   ]
  },
  {
   "cell_type": "code",
   "execution_count": 61,
   "metadata": {},
   "outputs": [],
   "source": [
    "model_names.append('RandomForestRegressor')\n",
    "r2_scores.append(f_test2)"
   ]
  },
  {
   "cell_type": "code",
   "execution_count": null,
   "metadata": {},
   "outputs": [
    {
     "name": "stdout",
     "output_type": "stream",
     "text": [
      "Train score   0.791---------Test score   0.762\n"
     ]
    }
   ],
   "source": [
    "# trying gradient boosting algorithm\n",
    "gb1 = GradientBoostingRegressor(random_state=0)\n",
    "gb1.fit(X_train_scaled, y_train)\n",
    "g_train1 = gb1.score(X_train_scaled, y_train)\n",
    "g_test1 = gb1.score(X_test_scaled, y_test)\n",
    "print(f'Train score   {g_train1:.3f}---------Test score   {g_test1:.3f}')\n",
    "# good model lets see if we can get something better"
   ]
  },
  {
   "cell_type": "code",
   "execution_count": 136,
   "metadata": {},
   "outputs": [
    {
     "name": "stdout",
     "output_type": "stream",
     "text": [
      "depth - 3\n",
      "Train score   0.812---------Test score   0.778\n",
      "\n",
      "depth - 4\n",
      "Train score   0.850---------Test score   0.804\n",
      "\n",
      "depth - 5\n",
      "Train score   0.884---------Test score   0.819\n",
      "\n",
      "depth - 6\n",
      "Train score   0.916---------Test score   0.823\n",
      "\n",
      "depth - 7\n",
      "Train score   0.942---------Test score   0.828\n",
      "\n",
      "depth - 8\n",
      "Train score   0.965---------Test score   0.829\n",
      "\n",
      "depth - 9\n",
      "Train score   0.979---------Test score   0.827\n",
      "\n",
      "depth - 10\n",
      "Train score   0.990---------Test score   0.827\n",
      "\n",
      "depth - 12\n",
      "Train score   0.999---------Test score   0.818\n",
      "\n",
      "depth - 15\n",
      "Train score   1.000---------Test score   0.791\n",
      "\n"
     ]
    },
    {
     "data": {
      "text/plain": [
       "<matplotlib.legend.Legend at 0x72c68d1f6f30>"
      ]
     },
     "execution_count": 136,
     "metadata": {},
     "output_type": "execute_result"
    },
    {
     "data": {
      "image/png": "[encoded data removed]",
      "text/plain": [
       "<Figure size 640x480 with 1 Axes>"
      ]
     },
     "metadata": {},
     "output_type": "display_data"
    }
   ],
   "source": [
    "maxdepth = [3,4,5,6,7,8,9,10,12,15]\n",
    "train_arr = []\n",
    "test_arr = []\n",
    "\n",
    "for depth in maxdepth:\n",
    "    model = GradientBoostingRegressor(max_depth=depth,random_state=0,learning_rate=0.15)\n",
    "    model.fit(X_train_scaled, y_train)\n",
    "    # Evaluate the model\n",
    "    train_score = model.score(X_train_scaled,y_train)\n",
    "    test_score = model.score(X_test_scaled,y_test)\n",
    "    train_arr.append(train_score)\n",
    "    test_arr.append(test_score)\n",
    "    print(f'depth - {depth}')\n",
    "    print(f'Train score   {train_score:.3f}---------Test score   {test_score:.3f}\\n')\n",
    "\n",
    "plt.plot(maxdepth,train_arr,label= 'train_score')\n",
    "plt.plot(maxdepth,test_arr,label= 'test_score')\n",
    "plt.legend()"
   ]
  },
  {
   "cell_type": "code",
   "execution_count": 52,
   "metadata": {},
   "outputs": [
    {
     "name": "stdout",
     "output_type": "stream",
     "text": [
      "Train score   0.884---------Test score   0.819\n"
     ]
    }
   ],
   "source": [
    "# we finalise at depth = 5\n",
    "gb2 = GradientBoostingRegressor(max_depth=5,random_state=0,learning_rate=0.15)\n",
    "gb2.fit(X_train_scaled, y_train)\n",
    "g_train2 = gb2.score(X_train_scaled, y_train)\n",
    "g_test2 = gb2.score(X_test_scaled, y_test)\n",
    "print(f'Train score   {g_train2:.3f}---------Test score   {g_test2:.3f}')"
   ]
  },
  {
   "cell_type": "code",
   "execution_count": 62,
   "metadata": {},
   "outputs": [],
   "source": [
    "model_names.append('GradientBoostingRegressor')\n",
    "r2_scores.append(g_test2)"
   ]
  },
  {
   "cell_type": "code",
   "execution_count": null,
   "metadata": {},
   "outputs": [
    {
     "name": "stdout",
     "output_type": "stream",
     "text": [
      "Train score   -0.048---------Test score   -0.042\n"
     ]
    }
   ],
   "source": [
    "# the default support vector regressor has a poor performance it should be tuned \n",
    "svr1 = SVR()\n",
    "svr1.fit(X_train_scaled, y_train)\n",
    "s_train1 = svr1.score(X_train_scaled, y_train)\n",
    "s_test1 = svr1.score(X_test_scaled, y_test)\n",
    "print(f'Train score   {s_train1:.3f}---------Test score   {s_test1:.3f}')"
   ]
  },
  {
   "cell_type": "code",
   "execution_count": null,
   "metadata": {},
   "outputs": [
    {
     "name": "stdout",
     "output_type": "stream",
     "text": [
      "gamma - 0.05\n",
      "Train score   0.419---------Test score   0.417\n",
      "\n",
      "gamma - 0.1\n",
      "Train score   0.501---------Test score   0.495\n",
      "\n",
      "gamma - 0.15\n",
      "Train score   0.508---------Test score   0.500\n",
      "\n"
     ]
    },
    {
     "data": {
      "text/plain": [
       "<matplotlib.legend.Legend at 0x7c54ac4b29c0>"
      ]
     },
     "execution_count": 24,
     "metadata": {},
     "output_type": "execute_result"
    },
    {
     "data": {
      "image/png": "[encoded data removed]",
      "text/plain": [
       "<Figure size 640x480 with 1 Axes>"
      ]
     },
     "metadata": {},
     "output_type": "display_data"
    }
   ],
   "source": [
    "gammas = [0.05,0.1,0.15]\n",
    "\n",
    "train_arr = []\n",
    "test_arr = []\n",
    "\n",
    "for gamma in gammas:\n",
    "    model = SVR(gamma=gamma,kernel='sigmoid',C=100)\n",
    "    model.fit(X_train_scaled, y_train)\n",
    "    # Evaluate the model\n",
    "    train_score = model.score(X_train_scaled,y_train)\n",
    "    test_score = model.score(X_test_scaled,y_test)\n",
    "    train_arr.append(train_score)\n",
    "    test_arr.append(test_score)\n",
    "    print(f'gamma - {gamma}')\n",
    "    print(f'Train score   {train_score:.3f}---------Test score   {test_score:.3f}\\n')\n",
    "\n",
    "plt.plot(gammas,train_arr,label= 'train_score')\n",
    "plt.plot(gammas,test_arr,label= 'test_score')\n",
    "plt.xticks(gammas)\n",
    "plt.legend()"
   ]
  },
  {
   "cell_type": "code",
   "execution_count": 26,
   "metadata": {},
   "outputs": [
    {
     "name": "stdout",
     "output_type": "stream",
     "text": [
      "Train score   0.508---------Test score   0.500\n"
     ]
    }
   ],
   "source": [
    "# after a lot of twitching and tweaking the model we have come up with an ok-ish model\n",
    "svr2 = SVR(gamma=0.15,kernel='sigmoid',C=100)\n",
    "svr2.fit(X_train_scaled, y_train)\n",
    "s_train2 = svr2.score(X_train_scaled, y_train)\n",
    "s_test2 = svr2.score(X_test_scaled, y_test)\n",
    "print(f'Train score   {s_train2:.3f}---------Test score   {s_test2:.3f}')"
   ]
  },
  {
   "cell_type": "code",
   "execution_count": 63,
   "metadata": {},
   "outputs": [],
   "source": [
    "model_names.append('SVR')\n",
    "r2_scores.append(s_test2)"
   ]
  },
  {
   "cell_type": "code",
   "execution_count": 40,
   "metadata": {},
   "outputs": [
    {
     "name": "stdout",
     "output_type": "stream",
     "text": [
      "Train score   -1.119---------Test score   -1.112\n"
     ]
    },
    {
     "name": "stderr",
     "output_type": "stream",
     "text": [
      "/home/veegee/venvs/personality_env/lib/python3.12/site-packages/sklearn/neural_network/_multilayer_perceptron.py:690: ConvergenceWarning: Stochastic Optimizer: Maximum iterations (200) reached and the optimization hasn't converged yet.\n",
      "  warnings.warn(\n"
     ]
    }
   ],
   "source": [
    "# the default mlp model\n",
    "mlp1 = MLPRegressor(random_state=0)\n",
    "mlp1.fit(X_train_scaled, y_train)\n",
    "m_train1 = mlp1.score(X_train_scaled, y_train)\n",
    "m_test1 = mlp1.score(X_test_scaled, y_test)\n",
    "print(f'Train score   {m_train1:.3f}---------Test score   {m_test1:.3f}')\n",
    "# it has a very poor performance "
   ]
  },
  {
   "cell_type": "code",
   "execution_count": 41,
   "metadata": {},
   "outputs": [
    {
     "name": "stdout",
     "output_type": "stream",
     "text": [
      "lr - 0.4\n",
      "Train score   0.803---------Test score   0.774\n",
      "\n",
      "lr - 0.5\n",
      "Train score   0.817---------Test score   0.781\n",
      "\n",
      "lr - 0.6\n",
      "Train score   0.819---------Test score   0.789\n",
      "\n",
      "lr - 0.7\n",
      "Train score   0.809---------Test score   0.777\n",
      "\n",
      "lr - 0.8\n",
      "Train score   0.806---------Test score   0.778\n",
      "\n"
     ]
    },
    {
     "data": {
      "text/plain": [
       "<matplotlib.legend.Legend at 0x7c54ac016600>"
      ]
     },
     "execution_count": 41,
     "metadata": {},
     "output_type": "execute_result"
    },
    {
     "data": {
      "image/png": "[encoded data removed]",
      "text/plain": [
       "<Figure size 640x480 with 1 Axes>"
      ]
     },
     "metadata": {},
     "output_type": "display_data"
    }
   ],
   "source": [
    "# lets try mlp's with various learning rates\n",
    "lrs = [0.4,0.5,0.6,0.7,0.8]\n",
    "\n",
    "train_arr = []\n",
    "test_arr = []\n",
    "\n",
    "for lr in lrs:\n",
    "    model = MLPRegressor(random_state=0,learning_rate_init=lr,max_iter=800)\n",
    "    model.fit(X_train_scaled, y_train)\n",
    "    # Evaluate the model\n",
    "    train_score = model.score(X_train_scaled,y_train)\n",
    "    test_score = model.score(X_test_scaled,y_test)\n",
    "    train_arr.append(train_score)\n",
    "    test_arr.append(test_score)\n",
    "    print(f'lr - {lr}')\n",
    "    print(f'Train score   {train_score:.3f}---------Test score   {test_score:.3f}\\n')\n",
    "\n",
    "plt.plot(lrs,train_arr,label= 'train_score')\n",
    "plt.plot(lrs,test_arr,label= 'test_score')\n",
    "plt.legend()"
   ]
  },
  {
   "cell_type": "code",
   "execution_count": 42,
   "metadata": {},
   "outputs": [
    {
     "name": "stdout",
     "output_type": "stream",
     "text": [
      "Train score   0.819---------Test score   0.789\n"
     ]
    }
   ],
   "source": [
    "# The final mlp model\n",
    "mlp2 = MLPRegressor(random_state=0,learning_rate_init=0.6,max_iter=800)\n",
    "mlp2.fit(X_train_scaled, y_train)\n",
    "m_train2 = mlp2.score(X_train_scaled, y_train)\n",
    "m_test2 = mlp2.score(X_test_scaled, y_test)\n",
    "print(f'Train score   {m_train2:.3f}---------Test score   {m_test2:.3f}')"
   ]
  },
  {
   "cell_type": "code",
   "execution_count": 64,
   "metadata": {},
   "outputs": [],
   "source": [
    "model_names.append('MLPRegressor')\n",
    "r2_scores.append(m_test2)"
   ]
  },
  {
   "cell_type": "code",
   "execution_count": null,
   "metadata": {},
   "outputs": [
    {
     "name": "stdout",
     "output_type": "stream",
     "text": [
      "['ElasticNet', 'DecisionTreeRegressor', 'RandomForestRegressor', 'GradientBoostingRegressor', 'SVR', 'MLPRegressor'] [0.6254312334082688, 0.7114047700727375, 0.7810529180149542, 0.8190917070149913, 0.5003597154252963, 0.7894195988256504]\n"
     ]
    },
    {
     "data": {
      "text/plain": [
       "([0, 1, 2, 3, 4, 5],\n",
       " [Text(0, 0, 'ElasticNet'),\n",
       "  Text(1, 0, 'DecisionTreeRegressor'),\n",
       "  Text(2, 0, 'RandomForestRegressor'),\n",
       "  Text(3, 0, 'GradientBoostingRegressor'),\n",
       "  Text(4, 0, 'SVR'),\n",
       "  Text(5, 0, 'MLPRegressor')])"
      ]
     },
     "execution_count": 65,
     "metadata": {},
     "output_type": "execute_result"
    },
    {
     "data": {
      "image/png": "[encoded data removed]",
      "text/plain": [
       "<Figure size 640x480 with 1 Axes>"
      ]
     },
     "metadata": {},
     "output_type": "display_data"
    }
   ],
   "source": [
    "# we can compare the performances of each model as a bar plot\n",
    "plt.bar(model_names,r2_scores)\n",
    "plt.xticks(rotation=90)"
   ]
  }
 ],
 "metadata": {
  "kernelspec": {
   "display_name": "personality_env",
   "language": "python",
   "name": "python3"
  },
  "language_info": {
   "codemirror_mode": {
    "name": "ipython",
    "version": 3
   },
   "file_extension": ".py",
   "mimetype": "text/x-python",
   "name": "python",
   "nbconvert_exporter": "python",
   "pygments_lexer": "ipython3",
   "version": "3.12.3"
  }
 },
 "nbformat": 4,
 "nbformat_minor": 2
}
